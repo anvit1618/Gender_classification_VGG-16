{
  "nbformat": 4,
  "nbformat_minor": 0,
  "metadata": {
    "colab": {
      "name": "Vgg-16.ipynb",
      "provenance": [],
      "collapsed_sections": [],
      "include_colab_link": true
    },
    "kernelspec": {
      "name": "python3",
      "display_name": "Python 3"
    },
    "language_info": {
      "name": "python"
    },
    "accelerator": "GPU"
  },
  "cells": [
    {
      "cell_type": "markdown",
      "metadata": {
        "id": "view-in-github",
        "colab_type": "text"
      },
      "source": [
        "<a href=\"https://colab.research.google.com/github/utkarsh-crypto/Gender_classification_VGG-16/blob/main/Vgg_16.ipynb\" target=\"_parent\"><img src=\"https://colab.research.google.com/assets/colab-badge.svg\" alt=\"Open In Colab\"/></a>"
      ]
    },
    {
      "cell_type": "code",
      "execution_count": 21,
      "metadata": {
        "id": "sTCDFPIwH0Rn"
      },
      "outputs": [],
      "source": [
        "import tensorflow as tf\n",
        "from tensorflow import keras\n",
        "from keras.layers import Input, Lambda, Dense, Flatten\n",
        "from keras.models import Model\n",
        "from keras.applications.vgg16 import VGG16\n",
        "from keras.applications.vgg16 import preprocess_input\n",
        "from keras.preprocessing import image\n",
        "from keras.preprocessing.image import ImageDataGenerator\n",
        "from keras.models import Sequential\n",
        "import numpy as np\n",
        "from glob import glob\n",
        "import matplotlib.pyplot as plt\n",
        "import os"
      ]
    },
    {
      "cell_type": "code",
      "source": [
        "%tensorflow_version 2.x\n",
        "import tensorflow as tf\n",
        "device_name = tf.test.gpu_device_name()\n",
        "if device_name != '/device:GPU:0':\n",
        "  raise SystemError('GPU device not found')\n",
        "print('Found GPU at: {}'.format(device_name))"
      ],
      "metadata": {
        "colab": {
          "base_uri": "https://localhost:8080/"
        },
        "id": "tOsIPWaGupCZ",
        "outputId": "aa53d1f6-771e-4bc2-eed3-c79b923cfea9"
      },
      "execution_count": 1,
      "outputs": [
        {
          "output_type": "stream",
          "name": "stdout",
          "text": [
            "Found GPU at: /device:GPU:0\n"
          ]
        }
      ]
    },
    {
      "cell_type": "code",
      "source": [
        "from google.colab import drive\n",
        "drive.mount('/content/drive')"
      ],
      "metadata": {
        "colab": {
          "base_uri": "https://localhost:8080/"
        },
        "id": "kIFoXhp-R3RO",
        "outputId": "39f9bf31-ea52-4732-8975-2eafd3db5ea5"
      },
      "execution_count": 3,
      "outputs": [
        {
          "output_type": "stream",
          "name": "stdout",
          "text": [
            "Mounted at /content/drive\n"
          ]
        }
      ]
    },
    {
      "cell_type": "code",
      "source": [
        "\n",
        "drive_path = \"/content/drive/MyDrive/CNN/UTKFace.zip\"\n",
        "local_path = '/content'\n",
        "!cp '{drive_path}' .\n",
        "os.chdir(local_path)\n",
        "!unzip -q 'UTKFace.zip'"
      ],
      "metadata": {
        "id": "seS7wad_R5We"
      },
      "execution_count": 4,
      "outputs": []
    },
    {
      "cell_type": "code",
      "source": [
        "#Give dataset path\n",
        "train_path = '/content/UTKFace/train'\n",
        "test_path = '/content/UTKFace/test'"
      ],
      "metadata": {
        "id": "KivOoacKKnDQ"
      },
      "execution_count": 5,
      "outputs": []
    },
    {
      "cell_type": "code",
      "source": [
        "from PIL import Image \n",
        "import os \n",
        "from IPython.display import display\n",
        "from IPython.display import Image as _Imgdis\n",
        "# creating a object  \n",
        "\n",
        "  \n",
        "folder = train_path+'/male'\n",
        "\n",
        "\n",
        "onlymalefiles = [f for f in os.listdir(folder) if os.path.isfile(os.path.join(folder, f))]\n",
        "print(\"Working with {0} images\".format(len(onlymalefiles)))\n",
        "print(\"Image examples: \")\n",
        "\n",
        "\n",
        "for i in range(10):\n",
        "    print(onlymalefiles[i])\n",
        "    display(_Imgdis(filename=folder + \"/\" + onlymalefiles[i], width=224, height=224))"
      ],
      "metadata": {
        "id": "vtakOTdEJTl-",
        "colab": {
          "base_uri": "https://localhost:8080/",
          "height": 1000
        },
        "outputId": "dfc42a19-cda3-4481-a758-942ef3779e48"
      },
      "execution_count": 6,
      "outputs": [
        {
          "output_type": "stream",
          "name": "stdout",
          "text": [
            "Working with 9205 images\n",
            "Image examples: \n",
            "14_0_0_20170102234854353.jpg.chip.jpg\n"
          ]
        },
        {
          "output_type": "display_data",
          "data": {
            "image/jpeg": "[encoded data removed]",
            "text/plain": [
              "<IPython.core.display.Image object>"
            ]
          },
          "metadata": {
            "image/jpeg": {
              "width": 240,
              "height": 240
            }
          }
        },
        {
          "output_type": "stream",
          "name": "stdout",
          "text": [
            "45_0_1_20170113154750024.jpg.chip.jpg\n"
          ]
        },
        {
          "output_type": "display_data",
          "data": {
            "image/jpeg": "[encoded data removed]",
            "text/plain": [
              "<IPython.core.display.Image object>"
            ]
          },
          "metadata": {
            "image/jpeg": {
              "width": 240,
              "height": 240
            }
          }
        },
        {
          "output_type": "stream",
          "name": "stdout",
          "text": [
            "26_0_3_20170119180941652.jpg.chip.jpg\n"
          ]
        },
        {
          "output_type": "display_data",
          "data": {
            "image/jpeg": "[encoded data removed]",
            "text/plain": [
              "<IPython.core.display.Image object>"
            ]
          },
          "metadata": {
            "image/jpeg": {
              "width": 240,
              "height": 240
            }
          }
        },
        {
          "output_type": "stream",
          "name": "stdout",
          "text": [
            "40_0_3_20170119151114678.jpg.chip.jpg\n"
          ]
        },
        {
          "output_type": "display_data",
          "data": {
            "image/jpeg": "[encoded data removed]",
            "text/plain": [
              "<IPython.core.display.Image object>"
            ]
          },
          "metadata": {
            "image/jpeg": {
              "width": 240,
              "height": 240
            }
          }
        },
        {
          "output_type": "stream",
          "name": "stdout",
          "text": [
            "52_0_0_20170109003616600.jpg.chip.jpg\n"
          ]
        },
        {
          "output_type": "display_data",
          "data": {
            "image/jpeg": "[encoded data removed]",
            "text/plain": [
              "<IPython.core.display.Image object>"
            ]
          },
          "metadata": {
            "image/jpeg": {
              "width": 240,
              "height": 240
            }
          }
        },
        {
          "output_type": "stream",
          "name": "stdout",
          "text": [
            "42_0_3_20170113142222564.jpg.chip.jpg\n"
          ]
        },
        {
          "output_type": "display_data",
          "data": {
            "image/jpeg": "[encoded data removed]",
            "text/plain": [
              "<IPython.core.display.Image object>"
            ]
          },
          "metadata": {
            "image/jpeg": {
              "width": 240,
              "height": 240
            }
          }
        },
        {
          "output_type": "stream",
          "name": "stdout",
          "text": [
            "34_0_0_20170116232927836.jpg.chip.jpg\n"
          ]
        },
        {
          "output_type": "display_data",
          "data": {
            "image/jpeg": "[encoded data removed]",
            "text/plain": [
              "<IPython.core.display.Image object>"
            ]
          },
          "metadata": {
            "image/jpeg": {
              "width": 240,
              "height": 240
            }
          }
        },
        {
          "output_type": "stream",
          "name": "stdout",
          "text": [
            "55_0_3_20170119171804112.jpg.chip.jpg\n"
          ]
        },
        {
          "output_type": "display_data",
          "data": {
            "image/jpeg": "[encoded data removed]",
            "text/plain": [
              "<IPython.core.display.Image object>"
            ]
          },
          "metadata": {
            "image/jpeg": {
              "width": 240,
              "height": 240
            }
          }
        },
        {
          "output_type": "stream",
          "name": "stdout",
          "text": [
            "60_0_0_20170112224151627.jpg.chip.jpg\n"
          ]
        },
        {
          "output_type": "display_data",
          "data": {
            "image/jpeg": "[encoded data removed]",
            "text/plain": [
              "<IPython.core.display.Image object>"
            ]
          },
          "metadata": {
            "image/jpeg": {
              "width": 240,
              "height": 240
            }
          }
        },
        {
          "output_type": "stream",
          "name": "stdout",
          "text": [
            "26_0_4_20170117195459004.jpg.chip.jpg\n"
          ]
        },
        {
          "output_type": "display_data",
          "data": {
            "image/jpeg": "[encoded data removed]",
            "text/plain": [
              "<IPython.core.display.Image object>"
            ]
          },
          "metadata": {
            "image/jpeg": {
              "width": 240,
              "height": 240
            }
          }
        }
      ]
    },
    {
      "cell_type": "code",
      "source": [
        "num_classes=2\n"
      ],
      "metadata": {
        "id": "8WqPclffMTBd"
      },
      "execution_count": 12,
      "outputs": []
    },
    {
      "cell_type": "code",
      "source": [
        "# #model initialization\n",
        "# vgg=VGG16(include_top=False, pooling='max', weights='imagenet',input_shape=(224, 224, 3))\n",
        "\n",
        "# # Freeze the layers except the last 5\n",
        "# for layer in vgg.layers:\n",
        "#  layer.trainable = False\n",
        "# # Check the trainable status of the individual layers\n",
        "# for layer in vgg.layers:\n",
        "#  print(layer, layer.trainable)\n",
        "\n",
        "# vgg.summary()\n",
        "\n",
        "\n"
      ],
      "metadata": {
        "id": "Vk5NiKE1JVwq"
      },
      "execution_count": 17,
      "outputs": []
    },
    {
      "cell_type": "code",
      "source": [
        "# Generate a model with all layers (with top)\n",
        "from keras import models\n",
        "from keras import layers\n",
        "vgg16 = VGG16(weights=None, include_top=True)\n",
        "\n",
        "for layer in vgg16.layers:\n",
        " layer.trainable = False\n",
        "\n",
        "#Add a layer where input is the output of the  second last layer \n",
        "x = Dense(2, activation='softmax', name='predictions')(vgg16.layers[-2].output)\n",
        "\n",
        "#Then create the corresponding model \n",
        "my_model = Model(inputs=vgg16.input, outputs=x)\n",
        "my_model.summary()"
      ],
      "metadata": {
        "colab": {
          "base_uri": "https://localhost:8080/"
        },
        "id": "xhYYHgqJ8teF",
        "outputId": "9e2e0ff8-7584-4b0e-dded-6f802e203804"
      },
      "execution_count": 47,
      "outputs": [
        {
          "output_type": "stream",
          "name": "stdout",
          "text": [
            "Model: \"model_2\"\n",
            "_________________________________________________________________\n",
            " Layer (type)                Output Shape              Param #   \n",
            "=================================================================\n",
            " input_14 (InputLayer)       [(None, 224, 224, 3)]     0         \n",
            "                                                                 \n",
            " block1_conv1 (Conv2D)       (None, 224, 224, 64)      1792      \n",
            "                                                                 \n",
            " block1_conv2 (Conv2D)       (None, 224, 224, 64)      36928     \n",
            "                                                                 \n",
            " block1_pool (MaxPooling2D)  (None, 112, 112, 64)      0         \n",
            "                                                                 \n",
            " block2_conv1 (Conv2D)       (None, 112, 112, 128)     73856     \n",
            "                                                                 \n",
            " block2_conv2 (Conv2D)       (None, 112, 112, 128)     147584    \n",
            "                                                                 \n",
            " block2_pool (MaxPooling2D)  (None, 56, 56, 128)       0         \n",
            "                                                                 \n",
            " block3_conv1 (Conv2D)       (None, 56, 56, 256)       295168    \n",
            "                                                                 \n",
            " block3_conv2 (Conv2D)       (None, 56, 56, 256)       590080    \n",
            "                                                                 \n",
            " block3_conv3 (Conv2D)       (None, 56, 56, 256)       590080    \n",
            "                                                                 \n",
            " block3_pool (MaxPooling2D)  (None, 28, 28, 256)       0         \n",
            "                                                                 \n",
            " block4_conv1 (Conv2D)       (None, 28, 28, 512)       1180160   \n",
            "                                                                 \n",
            " block4_conv2 (Conv2D)       (None, 28, 28, 512)       2359808   \n",
            "                                                                 \n",
            " block4_conv3 (Conv2D)       (None, 28, 28, 512)       2359808   \n",
            "                                                                 \n",
            " block4_pool (MaxPooling2D)  (None, 14, 14, 512)       0         \n",
            "                                                                 \n",
            " block5_conv1 (Conv2D)       (None, 14, 14, 512)       2359808   \n",
            "                                                                 \n",
            " block5_conv2 (Conv2D)       (None, 14, 14, 512)       2359808   \n",
            "                                                                 \n",
            " block5_conv3 (Conv2D)       (None, 14, 14, 512)       2359808   \n",
            "                                                                 \n",
            " block5_pool (MaxPooling2D)  (None, 7, 7, 512)         0         \n",
            "                                                                 \n",
            " flatten (Flatten)           (None, 25088)             0         \n",
            "                                                                 \n",
            " fc1 (Dense)                 (None, 4096)              102764544 \n",
            "                                                                 \n",
            " fc2 (Dense)                 (None, 4096)              16781312  \n",
            "                                                                 \n",
            " predictions (Dense)         (None, 2)                 8194      \n",
            "                                                                 \n",
            "=================================================================\n",
            "Total params: 134,268,738\n",
            "Trainable params: 8,194\n",
            "Non-trainable params: 134,260,544\n",
            "_________________________________________________________________\n"
          ]
        }
      ]
    },
    {
      "cell_type": "code",
      "source": [
        "# from keras import models\n",
        "# from keras import layers\n",
        "\n",
        "# model = models.Sequential()\n",
        "\n",
        "# # Add new layers for fine-tuning\n",
        "# model.add(vgg)\n",
        "# model.add(Flatten())\n",
        "# model.add(layers.Dense(4096, activation='relu'))\n",
        "# model.add(layers.Dense(4096, activation='relu'))\n",
        "# model.add(layers.BatchNormalization())\n",
        "# model.add(layers.Dense(num_classes, activation='softmax'))\n",
        "\n",
        "# model.summary()"
      ],
      "metadata": {
        "id": "8LVuEIsWX2yR"
      },
      "execution_count": 18,
      "outputs": []
    },
    {
      "cell_type": "code",
      "source": [
        "#Model Optimizer&Loss set\n",
        "from keras import optimizers\n",
        "\n",
        "my_model.compile(optimizer = 'adam',\n",
        "              loss = 'binary_crossentropy',\n",
        "              metrics=['accuracy'])\n",
        "\n"
      ],
      "metadata": {
        "id": "EoqwObbrbFaA"
      },
      "execution_count": 48,
      "outputs": []
    },
    {
      "cell_type": "code",
      "source": [
        "# use early stopping to optimally terminate training through callbacks\n",
        "from tensorflow.python.keras.callbacks import EarlyStopping, ModelCheckpoint\n",
        "es=EarlyStopping(monitor='val_accuracy', mode='auto', verbose=1, patience=3)\n",
        "\n",
        "# save best model automatically\n",
        "import h5py\n",
        "mc= ModelCheckpoint('/content/optimal.h5', monitor='val_accuracy', mode='auto', verbose=1, save_best_only=True)\n",
        "cb_list=[es,mc]"
      ],
      "metadata": {
        "id": "5TBb7jgAWcNa"
      },
      "execution_count": 49,
      "outputs": []
    },
    {
      "cell_type": "code",
      "source": [
        "#Pre-Processing\n",
        "data_generator = ImageDataGenerator(preprocessing_function=preprocess_input)\n",
        "\n",
        "\n",
        "train_generator = data_generator.flow_from_directory(\n",
        "        '/content/UTKFace/train',\n",
        "        target_size=(224, 224),\n",
        "        batch_size=12,\n",
        "        class_mode='categorical')\n",
        "\n",
        "\n",
        "validation_generator = data_generator.flow_from_directory(\n",
        "        '/content/UTKFace/val',\n",
        "        target_size=(224, 224),\n",
        "        batch_size=12,\n",
        "        class_mode='categorical')\n",
        "\n",
        "\n",
        "\n"
      ],
      "metadata": {
        "id": "ZATRrzwGXb6A",
        "colab": {
          "base_uri": "https://localhost:8080/"
        },
        "outputId": "96168046-8e9f-472a-eba8-8bccefd8c15b"
      },
      "execution_count": 50,
      "outputs": [
        {
          "output_type": "stream",
          "name": "stdout",
          "text": [
            "Found 17287 images belonging to 2 classes.\n",
            "Found 4616 images belonging to 2 classes.\n"
          ]
        }
      ]
    },
    {
      "cell_type": "code",
      "source": [
        "\n",
        "my_model.fit(\n",
        "        train_generator,\n",
        "        epochs=10,\n",
        "        validation_data=validation_generator,\n",
        "        callbacks=cb_list)"
      ],
      "metadata": {
        "colab": {
          "base_uri": "https://localhost:8080/"
        },
        "id": "Wfuf3YdraZUk",
        "outputId": "ed3867c2-17ac-458d-9aa8-d57ee028ac80"
      },
      "execution_count": 51,
      "outputs": [
        {
          "output_type": "stream",
          "name": "stdout",
          "text": [
            "Epoch 1/10\n",
            "1441/1441 [==============================] - ETA: 0s - loss: 0.5875 - accuracy: 0.6999\n",
            "Epoch 00001: val_accuracy improved from -inf to 0.68977, saving model to /content/optimal.h5\n",
            "1441/1441 [==============================] - 249s 172ms/step - loss: 0.5875 - accuracy: 0.6999 - val_loss: 0.5824 - val_accuracy: 0.6898\n",
            "Epoch 2/10\n",
            "1441/1441 [==============================] - ETA: 0s - loss: 0.5125 - accuracy: 0.7607\n",
            "Epoch 00002: val_accuracy improved from 0.68977 to 0.73267, saving model to /content/optimal.h5\n",
            "1441/1441 [==============================] - 248s 172ms/step - loss: 0.5125 - accuracy: 0.7607 - val_loss: 0.5348 - val_accuracy: 0.7327\n",
            "Epoch 3/10\n",
            "1441/1441 [==============================] - ETA: 0s - loss: 0.4862 - accuracy: 0.7759\n",
            "Epoch 00003: val_accuracy improved from 0.73267 to 0.73830, saving model to /content/optimal.h5\n",
            "1441/1441 [==============================] - 247s 171ms/step - loss: 0.4862 - accuracy: 0.7759 - val_loss: 0.5235 - val_accuracy: 0.7383\n",
            "Epoch 4/10\n",
            "1441/1441 [==============================] - ETA: 0s - loss: 0.4663 - accuracy: 0.7873\n",
            "Epoch 00004: val_accuracy improved from 0.73830 to 0.75932, saving model to /content/optimal.h5\n",
            "1441/1441 [==============================] - 246s 171ms/step - loss: 0.4663 - accuracy: 0.7873 - val_loss: 0.4969 - val_accuracy: 0.7593\n",
            "Epoch 5/10\n",
            "1441/1441 [==============================] - ETA: 0s - loss: 0.4521 - accuracy: 0.7951\n",
            "Epoch 00005: val_accuracy improved from 0.75932 to 0.76062, saving model to /content/optimal.h5\n",
            "1441/1441 [==============================] - 246s 171ms/step - loss: 0.4521 - accuracy: 0.7951 - val_loss: 0.4876 - val_accuracy: 0.7606\n",
            "Epoch 6/10\n",
            "1441/1441 [==============================] - ETA: 0s - loss: 0.4418 - accuracy: 0.8053\n",
            "Epoch 00006: val_accuracy improved from 0.76062 to 0.76755, saving model to /content/optimal.h5\n",
            "1441/1441 [==============================] - 246s 171ms/step - loss: 0.4418 - accuracy: 0.8053 - val_loss: 0.4798 - val_accuracy: 0.7675\n",
            "Epoch 7/10\n",
            "1441/1441 [==============================] - ETA: 0s - loss: 0.4313 - accuracy: 0.8094\n",
            "Epoch 00007: val_accuracy did not improve from 0.76755\n",
            "1441/1441 [==============================] - 245s 170ms/step - loss: 0.4313 - accuracy: 0.8094 - val_loss: 0.4828 - val_accuracy: 0.7623\n",
            "Epoch 8/10\n",
            "1441/1441 [==============================] - ETA: 0s - loss: 0.4225 - accuracy: 0.8151\n",
            "Epoch 00008: val_accuracy did not improve from 0.76755\n",
            "1441/1441 [==============================] - 245s 170ms/step - loss: 0.4225 - accuracy: 0.8151 - val_loss: 0.4833 - val_accuracy: 0.7619\n",
            "Epoch 9/10\n",
            "1441/1441 [==============================] - ETA: 0s - loss: 0.4172 - accuracy: 0.8175\n",
            "Epoch 00009: val_accuracy improved from 0.76755 to 0.77210, saving model to /content/optimal.h5\n",
            "1441/1441 [==============================] - 247s 171ms/step - loss: 0.4172 - accuracy: 0.8175 - val_loss: 0.4729 - val_accuracy: 0.7721\n",
            "Epoch 10/10\n",
            "1441/1441 [==============================] - ETA: 0s - loss: 0.4108 - accuracy: 0.8199\n",
            "Epoch 00010: val_accuracy improved from 0.77210 to 0.77881, saving model to /content/optimal.h5\n",
            "1441/1441 [==============================] - 247s 172ms/step - loss: 0.4108 - accuracy: 0.8199 - val_loss: 0.4626 - val_accuracy: 0.7788\n"
          ]
        },
        {
          "output_type": "execute_result",
          "data": {
            "text/plain": [
              "<keras.callbacks.History at 0x7f4476be8c10>"
            ]
          },
          "metadata": {},
          "execution_count": 51
        }
      ]
    },
    {
      "cell_type": "code",
      "source": [
        "#load best model\n",
        "from keras.models import load_model\n",
        "saved_model = load_model('/content/optimal.h5')"
      ],
      "metadata": {
        "id": "ccqOjKMjiVPh"
      },
      "execution_count": 52,
      "outputs": []
    },
    {
      "cell_type": "code",
      "source": [
        "#testing on tuned model\n",
        "test_generator = data_generator.flow_from_directory(\n",
        "        '/content/UTKFace/test',\n",
        "        target_size=(224, 224),\n",
        "        class_mode='categorical')\n",
        "\n",
        "# # obtain predicted activation values for the last dense layer\n",
        "# pred = saved_model.predict(test_generator, verbose=1)\n",
        "# # determine the maximum activation value for each sample\n",
        "# predicted_class_indices=np.argmax(pred,axis=1)\n",
        "\n"
      ],
      "metadata": {
        "colab": {
          "base_uri": "https://localhost:8080/"
        },
        "id": "0DbH6EEbimP0",
        "outputId": "22c0170e-5d4a-4187-906e-0f12d5c9f47f"
      },
      "execution_count": 53,
      "outputs": [
        {
          "output_type": "stream",
          "name": "stdout",
          "text": [
            "Found 1804 images belonging to 2 classes.\n"
          ]
        }
      ]
    },
    {
      "cell_type": "code",
      "source": [
        "results = saved_model.evaluate(test_generator)\n",
        "results"
      ],
      "metadata": {
        "colab": {
          "base_uri": "https://localhost:8080/"
        },
        "id": "53s8bDm5lJq-",
        "outputId": "c8ae673a-6fc0-4e4b-fd2e-03e63cd57d7d"
      },
      "execution_count": 54,
      "outputs": [
        {
          "output_type": "stream",
          "name": "stdout",
          "text": [
            "57/57 [==============================] - 14s 248ms/step - loss: 0.5102 - accuracy: 0.7461\n"
          ]
        },
        {
          "output_type": "execute_result",
          "data": {
            "text/plain": [
              "[0.5101617574691772, 0.7461197376251221]"
            ]
          },
          "metadata": {},
          "execution_count": 54
        }
      ]
    }
  ]
}