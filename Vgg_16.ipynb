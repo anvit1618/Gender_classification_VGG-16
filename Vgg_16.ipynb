{
  "nbformat": 4,
  "nbformat_minor": 0,
  "metadata": {
    "colab": {
      "name": "Vgg-16.ipynb",
      "provenance": [],
      "collapsed_sections": [],
      "include_colab_link": true
    },
    "kernelspec": {
      "name": "python3",
      "display_name": "Python 3"
    },
    "language_info": {
      "name": "python"
    },
    "accelerator": "GPU"
  },
  "cells": [
    {
      "cell_type": "markdown",
      "metadata": {
        "id": "view-in-github",
        "colab_type": "text"
      },
      "source": [
        "<a href=\"https://colab.research.google.com/github/utkarsh-crypto/Gender_classification_VGG-16/blob/main/Vgg_16.ipynb\" target=\"_parent\"><img src=\"https://colab.research.google.com/assets/colab-badge.svg\" alt=\"Open In Colab\"/></a>"
      ]
    },
    {
      "cell_type": "code",
      "execution_count": null,
      "metadata": {
        "id": "sTCDFPIwH0Rn"
      },
      "outputs": [],
      "source": [
        "import tensorflow as tf\n",
        "from tensorflow import keras\n",
        "from keras.layers import Input, Lambda, Dense, Flatten\n",
        "from keras.models import Model\n",
        "from keras.applications.vgg16 import VGG16\n",
        "from keras.applications.vgg16 import preprocess_input\n",
        "from keras.preprocessing import image\n",
        "from keras.preprocessing.image import ImageDataGenerator\n",
        "from keras.models import Sequential\n",
        "import numpy as np\n",
        "from glob import glob\n",
        "import matplotlib.pyplot as plt\n",
        "import os"
      ]
    },
    {
      "cell_type": "code",
      "source": [
        "%tensorflow_version 2.x\n",
        "import tensorflow as tf\n",
        "device_name = tf.test.gpu_device_name()\n",
        "if device_name != '/device:GPU:0':\n",
        "  raise SystemError('GPU device not found')\n",
        "print('Found GPU at: {}'.format(device_name))"
      ],
      "metadata": {
        "colab": {
          "base_uri": "https://localhost:8080/"
        },
        "id": "tOsIPWaGupCZ",
        "outputId": "ed6d6426-1964-448e-c687-4d9a04df5589"
      },
      "execution_count": null,
      "outputs": [
        {
          "output_type": "stream",
          "name": "stdout",
          "text": [
            "Found GPU at: /device:GPU:0\n"
          ]
        }
      ]
    },
    {
      "cell_type": "code",
      "source": [
        "from google.colab import drive\n",
        "drive.mount('/content/drive')"
      ],
      "metadata": {
        "colab": {
          "base_uri": "https://localhost:8080/"
        },
        "id": "kIFoXhp-R3RO",
        "outputId": "6cba534f-499a-4b1c-a490-dca1d74d6586"
      },
      "execution_count": null,
      "outputs": [
        {
          "output_type": "stream",
          "name": "stdout",
          "text": [
            "Mounted at /content/drive\n"
          ]
        }
      ]
    },
    {
      "cell_type": "code",
      "source": [
        "\n",
        "drive_path = \"/content/drive/MyDrive/cnn/UTKFace.zip\"\n",
        "local_path = '/content'\n",
        "!cp '{drive_path}' .\n",
        "os.chdir(local_path)\n",
        "!unzip -q 'UTKFace.zip'"
      ],
      "metadata": {
        "id": "seS7wad_R5We"
      },
      "execution_count": null,
      "outputs": []
    },
    {
      "cell_type": "code",
      "source": [
        "#Give dataset path\n",
        "train_path = '/content/UTKFace/train'\n",
        "test_path = '/content/UTKFace/test'"
      ],
      "metadata": {
        "id": "KivOoacKKnDQ"
      },
      "execution_count": null,
      "outputs": []
    },
    {
      "cell_type": "code",
      "source": [
        "from PIL import Image \n",
        "import os \n",
        "from IPython.display import display\n",
        "from IPython.display import Image as _Imgdis\n",
        "# creating a object  \n",
        "\n",
        "  \n",
        "folder = train_path+'/male'\n",
        "\n",
        "\n",
        "onlymalefiles = [f for f in os.listdir(folder) if os.path.isfile(os.path.join(folder, f))]\n",
        "print(\"Working with {0} images\".format(len(onlymalefiles)))\n",
        "print(\"Image examples: \")\n",
        "\n",
        "\n",
        "for i in range(10):\n",
        "    print(onlymalefiles[i])\n",
        "    display(_Imgdis(filename=folder + \"/\" + onlymalefiles[i], width=224, height=224))"
      ],
      "metadata": {
        "id": "vtakOTdEJTl-",
        "colab": {
          "base_uri": "https://localhost:8080/",
          "height": 1000
        },
        "outputId": "baa013a7-4689-4780-fc3d-3ee9149a4f80"
      },
      "execution_count": null,
      "outputs": [
        {
          "output_type": "stream",
          "name": "stdout",
          "text": [
            "Working with 9205 images\n",
            "Image examples: \n",
            "45_0_3_20170119204728031.jpg.chip.jpg\n"
          ]
        },
        {
          "output_type": "display_data",
          "data": {
            "image/jpeg": "[encoded data removed]",
            "text/plain": [
              "<IPython.core.display.Image object>"
            ]
          },
          "metadata": {
            "image/jpeg": {
              "width": 224,
              "height": 224
            }
          }
        },
        {
          "output_type": "stream",
          "name": "stdout",
          "text": [
            "38_0_1_20170113154658138.jpg.chip.jpg\n"
          ]
        },
        {
          "output_type": "display_data",
          "data": {
            "image/jpeg": "[encoded data removed]",
            "text/plain": [
              "<IPython.core.display.Image object>"
            ]
          },
          "metadata": {
            "image/jpeg": {
              "width": 224,
              "height": 224
            }
          }
        },
        {
          "output_type": "stream",
          "name": "stdout",
          "text": [
            "38_0_0_20170103183142330.jpg.chip.jpg\n"
          ]
        },
        {
          "output_type": "display_data",
          "data": {
            "image/jpeg": "[encoded data removed]",
            "text/plain": [
              "<IPython.core.display.Image object>"
            ]
          },
          "metadata": {
            "image/jpeg": {
              "width": 224,
              "height": 224
            }
          }
        },
        {
          "output_type": "stream",
          "name": "stdout",
          "text": [
            "57_0_0_20170120222949154.jpg.chip.jpg\n"
          ]
        },
        {
          "output_type": "display_data",
          "data": {
            "image/jpeg": "[encoded data removed]",
            "text/plain": [
              "<IPython.core.display.Image object>"
            ]
          },
          "metadata": {
            "image/jpeg": {
              "width": 224,
              "height": 224
            }
          }
        },
        {
          "output_type": "stream",
          "name": "stdout",
          "text": [
            "26_0_0_20170117091213670.jpg.chip.jpg\n"
          ]
        },
        {
          "output_type": "display_data",
          "data": {
            "image/jpeg": "[encoded data removed]",
            "text/plain": [
              "<IPython.core.display.Image object>"
            ]
          },
          "metadata": {
            "image/jpeg": {
              "width": 224,
              "height": 224
            }
          }
        },
        {
          "output_type": "stream",
          "name": "stdout",
          "text": [
            "44_0_3_20170119172207729.jpg.chip.jpg\n"
          ]
        },
        {
          "output_type": "display_data",
          "data": {
            "image/jpeg": "[encoded data removed]",
            "text/plain": [
              "<IPython.core.display.Image object>"
            ]
          },
          "metadata": {
            "image/jpeg": {
              "width": 224,
              "height": 224
            }
          }
        },
        {
          "output_type": "stream",
          "name": "stdout",
          "text": [
            "52_0_3_20170119205638160.jpg.chip.jpg\n"
          ]
        },
        {
          "output_type": "display_data",
          "data": {
            "image/jpeg": "[encoded data removed]",
            "text/plain": [
              "<IPython.core.display.Image object>"
            ]
          },
          "metadata": {
            "image/jpeg": {
              "width": 224,
              "height": 224
            }
          }
        },
        {
          "output_type": "stream",
          "name": "stdout",
          "text": [
            "56_0_4_20170105173517933.jpg.chip.jpg\n"
          ]
        },
        {
          "output_type": "display_data",
          "data": {
            "image/jpeg": "[encoded data removed]",
            "text/plain": [
              "<IPython.core.display.Image object>"
            ]
          },
          "metadata": {
            "image/jpeg": {
              "width": 224,
              "height": 224
            }
          }
        },
        {
          "output_type": "stream",
          "name": "stdout",
          "text": [
            "10_0_1_20170110223848885.jpg.chip.jpg\n"
          ]
        },
        {
          "output_type": "display_data",
          "data": {
            "image/jpeg": "[encoded data removed]",
            "text/plain": [
              "<IPython.core.display.Image object>"
            ]
          },
          "metadata": {
            "image/jpeg": {
              "width": 224,
              "height": 224
            }
          }
        },
        {
          "output_type": "stream",
          "name": "stdout",
          "text": [
            "25_0_0_20170117151831828.jpg.chip.jpg\n"
          ]
        },
        {
          "output_type": "display_data",
          "data": {
            "image/jpeg": "[encoded data removed]",
            "text/plain": [
              "<IPython.core.display.Image object>"
            ]
          },
          "metadata": {
            "image/jpeg": {
              "width": 224,
              "height": 224
            }
          }
        }
      ]
    },
    {
      "cell_type": "code",
      "source": [
        "num_classes=2\n"
      ],
      "metadata": {
        "id": "8WqPclffMTBd"
      },
      "execution_count": null,
      "outputs": []
    },
    {
      "cell_type": "code",
      "source": [
        "# #model initialization\n",
        "# vgg=VGG16(include_top=False, pooling='max', weights='imagenet',input_shape=(224, 224, 3))\n",
        "\n",
        "# # Freeze the layers except the last 5\n",
        "# for layer in vgg.layers:\n",
        "#  layer.trainable = False\n",
        "# # Check the trainable status of the individual layers\n",
        "# for layer in vgg.layers:\n",
        "#  print(layer, layer.trainable)\n",
        "\n",
        "# vgg.summary()\n",
        "\n",
        "\n"
      ],
      "metadata": {
        "id": "Vk5NiKE1JVwq"
      },
      "execution_count": null,
      "outputs": []
    },
    {
      "cell_type": "code",
      "source": [
        "# Generate a model with all layers (with top)\n",
        "from keras import models\n",
        "from keras import layers\n",
        "vgg16 = VGG16(weights=\"imagenet\", include_top=True)\n",
        "\n",
        "for layer in vgg16.layers:\n",
        " layer.trainable = False\n",
        "\n",
        "#Add a layer where input is the output of the  second last layer \n",
        "x = Dense(2, activation='softmax', name='predictions')(vgg16.layers[-2].output)\n",
        "\n",
        "#Then create the corresponding model \n",
        "my_model = Model(inputs=vgg16.input, outputs=x)\n",
        "my_model.summary()"
      ],
      "metadata": {
        "colab": {
          "base_uri": "https://localhost:8080/"
        },
        "id": "xhYYHgqJ8teF",
        "outputId": "e850c2c3-6c91-4608-b5ce-bf3a21c3d989"
      },
      "execution_count": null,
      "outputs": [
        {
          "output_type": "stream",
          "name": "stdout",
          "text": [
            "Downloading data from https://storage.googleapis.com/tensorflow/keras-applications/vgg16/vgg16_weights_tf_dim_ordering_tf_kernels.h5\n",
            "553467904/553467096 [==============================] - 5s 0us/step\n",
            "553476096/553467096 [==============================] - 5s 0us/step\n",
            "Model: \"model\"\n",
            "_________________________________________________________________\n",
            " Layer (type)                Output Shape              Param #   \n",
            "=================================================================\n",
            " input_1 (InputLayer)        [(None, 224, 224, 3)]     0         \n",
            "                                                                 \n",
            " block1_conv1 (Conv2D)       (None, 224, 224, 64)      1792      \n",
            "                                                                 \n",
            " block1_conv2 (Conv2D)       (None, 224, 224, 64)      36928     \n",
            "                                                                 \n",
            " block1_pool (MaxPooling2D)  (None, 112, 112, 64)      0         \n",
            "                                                                 \n",
            " block2_conv1 (Conv2D)       (None, 112, 112, 128)     73856     \n",
            "                                                                 \n",
            " block2_conv2 (Conv2D)       (None, 112, 112, 128)     147584    \n",
            "                                                                 \n",
            " block2_pool (MaxPooling2D)  (None, 56, 56, 128)       0         \n",
            "                                                                 \n",
            " block3_conv1 (Conv2D)       (None, 56, 56, 256)       295168    \n",
            "                                                                 \n",
            " block3_conv2 (Conv2D)       (None, 56, 56, 256)       590080    \n",
            "                                                                 \n",
            " block3_conv3 (Conv2D)       (None, 56, 56, 256)       590080    \n",
            "                                                                 \n",
            " block3_pool (MaxPooling2D)  (None, 28, 28, 256)       0         \n",
            "                                                                 \n",
            " block4_conv1 (Conv2D)       (None, 28, 28, 512)       1180160   \n",
            "                                                                 \n",
            " block4_conv2 (Conv2D)       (None, 28, 28, 512)       2359808   \n",
            "                                                                 \n",
            " block4_conv3 (Conv2D)       (None, 28, 28, 512)       2359808   \n",
            "                                                                 \n",
            " block4_pool (MaxPooling2D)  (None, 14, 14, 512)       0         \n",
            "                                                                 \n",
            " block5_conv1 (Conv2D)       (None, 14, 14, 512)       2359808   \n",
            "                                                                 \n",
            " block5_conv2 (Conv2D)       (None, 14, 14, 512)       2359808   \n",
            "                                                                 \n",
            " block5_conv3 (Conv2D)       (None, 14, 14, 512)       2359808   \n",
            "                                                                 \n",
            " block5_pool (MaxPooling2D)  (None, 7, 7, 512)         0         \n",
            "                                                                 \n",
            " flatten (Flatten)           (None, 25088)             0         \n",
            "                                                                 \n",
            " fc1 (Dense)                 (None, 4096)              102764544 \n",
            "                                                                 \n",
            " fc2 (Dense)                 (None, 4096)              16781312  \n",
            "                                                                 \n",
            " predictions (Dense)         (None, 2)                 8194      \n",
            "                                                                 \n",
            "=================================================================\n",
            "Total params: 134,268,738\n",
            "Trainable params: 8,194\n",
            "Non-trainable params: 134,260,544\n",
            "_________________________________________________________________\n"
          ]
        }
      ]
    },
    {
      "cell_type": "code",
      "source": [
        "# from keras import models\n",
        "# from keras import layers\n",
        "\n",
        "# model = models.Sequential()\n",
        "\n",
        "# # Add new layers for fine-tuning\n",
        "# model.add(vgg)\n",
        "# model.add(Flatten())\n",
        "# model.add(layers.Dense(4096, activation='relu'))\n",
        "# model.add(layers.Dense(4096, activation='relu'))\n",
        "# model.add(layers.BatchNormalization())\n",
        "# model.add(layers.Dense(num_classes, activation='softmax'))\n",
        "\n",
        "# model.summary()"
      ],
      "metadata": {
        "id": "8LVuEIsWX2yR"
      },
      "execution_count": null,
      "outputs": []
    },
    {
      "cell_type": "code",
      "source": [
        "#Model Optimizer&Loss set\n",
        "from keras import optimizers\n",
        "\n",
        "my_model.compile(optimizer = 'adam',\n",
        "              loss = 'binary_crossentropy',\n",
        "              metrics=['accuracy'])\n",
        "\n"
      ],
      "metadata": {
        "id": "EoqwObbrbFaA"
      },
      "execution_count": null,
      "outputs": []
    },
    {
      "cell_type": "code",
      "source": [
        "# use early stopping to optimally terminate training through callbacks\n",
        "from tensorflow.python.keras.callbacks import EarlyStopping, ModelCheckpoint\n",
        "es=EarlyStopping(monitor='val_accuracy', mode='auto', verbose=1, patience=3)\n",
        "\n",
        "# save best model automatically\n",
        "import h5py\n",
        "mc= ModelCheckpoint('/content/optimal.h5', monitor='val_accuracy', mode='auto', verbose=1, save_best_only=True)\n",
        "cb_list=[es,mc]"
      ],
      "metadata": {
        "id": "5TBb7jgAWcNa"
      },
      "execution_count": null,
      "outputs": []
    },
    {
      "cell_type": "code",
      "source": [
        "#Pre-Processing\n",
        "data_generator = ImageDataGenerator(preprocessing_function=tf.keras.applications.vgg16.preprocess_input)\n",
        "\n",
        "\n",
        "train_generator = data_generator.flow_from_directory(\n",
        "        '/content/UTKFace/train',\n",
        "        target_size=(224, 224),\n",
        "        batch_size=12,\n",
        "        class_mode='categorical')\n",
        "\n",
        "\n",
        "validation_generator = data_generator.flow_from_directory(\n",
        "        '/content/UTKFace/val',\n",
        "        target_size=(224, 224),\n",
        "        batch_size=12,\n",
        "        class_mode='categorical')\n",
        "\n",
        "\n",
        "\n"
      ],
      "metadata": {
        "id": "ZATRrzwGXb6A",
        "colab": {
          "base_uri": "https://localhost:8080/"
        },
        "outputId": "32e5cd3f-9008-4c2a-9197-9e11257a61c7"
      },
      "execution_count": null,
      "outputs": [
        {
          "output_type": "stream",
          "name": "stdout",
          "text": [
            "Found 17287 images belonging to 2 classes.\n",
            "Found 4616 images belonging to 2 classes.\n"
          ]
        }
      ]
    },
    {
      "cell_type": "code",
      "source": [
        "\n",
        "history=my_model.fit(\n",
        "        train_generator,\n",
        "        epochs=10,\n",
        "        validation_data=validation_generator,\n",
        "        callbacks=cb_list)"
      ],
      "metadata": {
        "colab": {
          "base_uri": "https://localhost:8080/"
        },
        "id": "Wfuf3YdraZUk",
        "outputId": "1b75a98f-1886-4bec-ace9-6ccf75d5df57"
      },
      "execution_count": null,
      "outputs": [
        {
          "output_type": "stream",
          "name": "stdout",
          "text": [
            "Epoch 1/10\n",
            "1441/1441 [==============================] - ETA: 0s - loss: 0.3740 - accuracy: 0.8405\n",
            "Epoch 00001: val_accuracy improved from -inf to 0.82517, saving model to /content/optimal.h5\n",
            "1441/1441 [==============================] - 257s 170ms/step - loss: 0.3740 - accuracy: 0.8405 - val_loss: 0.3885 - val_accuracy: 0.8252\n",
            "Epoch 2/10\n",
            "1441/1441 [==============================] - ETA: 0s - loss: 0.3233 - accuracy: 0.8673\n",
            "Epoch 00002: val_accuracy did not improve from 0.82517\n",
            "1441/1441 [==============================] - 238s 165ms/step - loss: 0.3233 - accuracy: 0.8673 - val_loss: 0.4501 - val_accuracy: 0.8109\n",
            "Epoch 3/10\n",
            "1441/1441 [==============================] - ETA: 0s - loss: 0.2968 - accuracy: 0.8774\n",
            "Epoch 00003: val_accuracy improved from 0.82517 to 0.83016, saving model to /content/optimal.h5\n",
            "1441/1441 [==============================] - 239s 166ms/step - loss: 0.2968 - accuracy: 0.8774 - val_loss: 0.3947 - val_accuracy: 0.8302\n",
            "Epoch 4/10\n",
            "1441/1441 [==============================] - ETA: 0s - loss: 0.2851 - accuracy: 0.8825\n",
            "Epoch 00004: val_accuracy improved from 0.83016 to 0.83492, saving model to /content/optimal.h5\n",
            "1441/1441 [==============================] - 240s 166ms/step - loss: 0.2851 - accuracy: 0.8825 - val_loss: 0.3914 - val_accuracy: 0.8349\n",
            "Epoch 5/10\n",
            "1441/1441 [==============================] - ETA: 0s - loss: 0.2713 - accuracy: 0.8890\n",
            "Epoch 00005: val_accuracy improved from 0.83492 to 0.83860, saving model to /content/optimal.h5\n",
            "1441/1441 [==============================] - 240s 166ms/step - loss: 0.2713 - accuracy: 0.8890 - val_loss: 0.4011 - val_accuracy: 0.8386\n",
            "Epoch 6/10\n",
            "1441/1441 [==============================] - ETA: 0s - loss: 0.2647 - accuracy: 0.8917\n",
            "Epoch 00006: val_accuracy did not improve from 0.83860\n",
            "1441/1441 [==============================] - 238s 165ms/step - loss: 0.2647 - accuracy: 0.8917 - val_loss: 0.4023 - val_accuracy: 0.8382\n",
            "Epoch 7/10\n",
            "1441/1441 [==============================] - ETA: 0s - loss: 0.2559 - accuracy: 0.8956\n",
            "Epoch 00007: val_accuracy did not improve from 0.83860\n",
            "1441/1441 [==============================] - 238s 165ms/step - loss: 0.2559 - accuracy: 0.8956 - val_loss: 0.4872 - val_accuracy: 0.8117\n",
            "Epoch 8/10\n",
            "1441/1441 [==============================] - ETA: 0s - loss: 0.2454 - accuracy: 0.9004\n",
            "Epoch 00008: val_accuracy did not improve from 0.83860\n",
            "1441/1441 [==============================] - 238s 165ms/step - loss: 0.2454 - accuracy: 0.9004 - val_loss: 0.4463 - val_accuracy: 0.8250\n",
            "Epoch 00008: early stopping\n"
          ]
        }
      ]
    },
    {
      "cell_type": "code",
      "source": [
        "#load best model\n",
        "from keras.models import load_model\n",
        "saved_model = load_model('/content/optimal.h5')"
      ],
      "metadata": {
        "id": "ccqOjKMjiVPh"
      },
      "execution_count": null,
      "outputs": []
    },
    {
      "cell_type": "code",
      "source": [
        "#testing on tuned model\n",
        "test_generator = data_generator.flow_from_directory(\n",
        "        '/content/UTKFace/test',\n",
        "        target_size=(224, 224),\n",
        "        class_mode='categorical')\n",
        "\n",
        "# # obtain predicted activation values for the last dense layer\n",
        "# pred = saved_model.predict(test_generator, verbose=1)\n",
        "# # determine the maximum activation value for each sample\n",
        "# predicted_class_indices=np.argmax(pred,axis=1)\n",
        "\n"
      ],
      "metadata": {
        "colab": {
          "base_uri": "https://localhost:8080/"
        },
        "id": "0DbH6EEbimP0",
        "outputId": "29b32c98-19b1-47cb-884a-ed51fadeec01"
      },
      "execution_count": null,
      "outputs": [
        {
          "output_type": "stream",
          "name": "stdout",
          "text": [
            "Found 1804 images belonging to 2 classes.\n"
          ]
        }
      ]
    },
    {
      "cell_type": "code",
      "source": [
        "results = saved_model.evaluate(test_generator)\n",
        "results"
      ],
      "metadata": {
        "colab": {
          "base_uri": "https://localhost:8080/"
        },
        "id": "53s8bDm5lJq-",
        "outputId": "78647489-cc6d-4019-e450-1387d85c7f84"
      },
      "execution_count": null,
      "outputs": [
        {
          "output_type": "stream",
          "name": "stdout",
          "text": [
            "57/57 [==============================] - 14s 236ms/step - loss: 0.4819 - accuracy: 0.8038\n"
          ]
        },
        {
          "output_type": "execute_result",
          "data": {
            "text/plain": [
              "[0.48193982243537903, 0.8037694096565247]"
            ]
          },
          "metadata": {},
          "execution_count": 19
        }
      ]
    },
    {
      "cell_type": "code",
      "source": [
        "plt.plot(history.history['accuracy'])\n",
        "plt.plot(history.history['val_accuracy'])\n",
        "plt.title('model accuracy')\n",
        "plt.ylabel('accuracy')\n",
        "plt.xlabel('epoch')\n",
        "plt.legend(['train', 'val'], loc='upper left')\n",
        "plt.show()"
      ],
      "metadata": {
        "id": "J1N8lrpiYrlK",
        "colab": {
          "base_uri": "https://localhost:8080/",
          "height": 295
        },
        "outputId": "cf05494c-3728-4b9c-afbb-f2981ee8fc2e"
      },
      "execution_count": null,
      "outputs": [
        {
          "output_type": "display_data",
          "data": {
            "image/png": "[encoded data removed]",
            "text/plain": [
              "<Figure size 432x288 with 1 Axes>"
            ]
          },
          "metadata": {
            "needs_background": "light"
          }
        }
      ]
    },
    {
      "cell_type": "code",
      "source": [
        "plt.plot(history.history['loss'])\n",
        "plt.plot(history.history['val_loss'])\n",
        "plt.title('model loss')\n",
        "plt.ylabel('loss')\n",
        "plt.xlabel('epoch')\n",
        "plt.legend(['train', 'val'], loc='upper left')\n",
        "plt.show()"
      ],
      "metadata": {
        "colab": {
          "base_uri": "https://localhost:8080/",
          "height": 295
        },
        "id": "tF5nVGouR19Q",
        "outputId": "34b15481-aa89-4ca8-93df-153e7582bf3b"
      },
      "execution_count": null,
      "outputs": [
        {
          "output_type": "display_data",
          "data": {
            "image/png": "[encoded data removed]",
            "text/plain": [
              "<Figure size 432x288 with 1 Axes>"
            ]
          },
          "metadata": {
            "needs_background": "light"
          }
        }
      ]
    }
  ]
}