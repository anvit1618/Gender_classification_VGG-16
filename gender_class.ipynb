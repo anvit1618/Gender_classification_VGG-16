{
  "nbformat": 4,
  "nbformat_minor": 0,
  "metadata": {
    "colab": {
      "name": "Untitled8.ipynb",
      "provenance": [],
      "collapsed_sections": [],
      "include_colab_link": true
    },
    "kernelspec": {
      "name": "python3",
      "display_name": "Python 3"
    },
    "language_info": {
      "name": "python"
    },
    "accelerator": "GPU"
  },
  "cells": [
    {
      "cell_type": "markdown",
      "metadata": {
        "id": "view-in-github",
        "colab_type": "text"
      },
      "source": [
        "<a href=\"https://colab.research.google.com/github/utkarsh-crypto/Gender_classification_VGG-16/blob/main/gender_class.ipynb\" target=\"_parent\"><img src=\"https://colab.research.google.com/assets/colab-badge.svg\" alt=\"Open In Colab\"/></a>"
      ]
    },
    {
      "cell_type": "code",
      "execution_count": 15,
      "metadata": {
        "id": "sTCDFPIwH0Rn"
      },
      "outputs": [],
      "source": [
        "import tensorflow as tf\n",
        "from tensorflow import keras\n",
        "from keras.layers import Input, Lambda, Dense, Flatten\n",
        "from keras.models import Model\n",
        "from keras.applications.vgg16 import VGG16\n",
        "from keras.applications.vgg16 import preprocess_input\n",
        "from keras.preprocessing import image\n",
        "from keras.preprocessing.image import ImageDataGenerator\n",
        "from keras.models import Sequential\n",
        "import numpy as np\n",
        "from glob import glob\n",
        "import matplotlib.pyplot as plt\n",
        "import os"
      ]
    },
    {
      "cell_type": "code",
      "source": [
        "from google.colab import drive\n",
        "drive.mount('/content/drive')"
      ],
      "metadata": {
        "colab": {
          "base_uri": "https://localhost:8080/"
        },
        "id": "kIFoXhp-R3RO",
        "outputId": "6f08bc54-fea9-4fdd-fc52-40aba8ded05c"
      },
      "execution_count": null,
      "outputs": [
        {
          "output_type": "stream",
          "name": "stdout",
          "text": [
            "Mounted at /content/drive\n"
          ]
        }
      ]
    },
    {
      "cell_type": "code",
      "source": [
        "\n",
        "drive_path = \"/content/drive/MyDrive/CNN/UTKFace.zip\"\n",
        "local_path = '/content'\n",
        "!cp '{drive_path}' .\n",
        "os.chdir(local_path)\n",
        "!unzip -q 'UTKFace.zip'"
      ],
      "metadata": {
        "id": "seS7wad_R5We"
      },
      "execution_count": null,
      "outputs": []
    },
    {
      "cell_type": "code",
      "source": [
        "#Give dataset path\n",
        "train_path = '/content/UTKFace/train'\n",
        "test_path = '/content/UTKFace/test'"
      ],
      "metadata": {
        "id": "KivOoacKKnDQ"
      },
      "execution_count": null,
      "outputs": []
    },
    {
      "cell_type": "code",
      "source": [
        "from PIL import Image \n",
        "import os \n",
        "from IPython.display import display\n",
        "from IPython.display import Image as _Imgdis\n",
        "# creating a object  \n",
        "\n",
        "  \n",
        "folder = train_path+'/male'\n",
        "\n",
        "\n",
        "onlymalefiles = [f for f in os.listdir(folder) if os.path.isfile(os.path.join(folder, f))]\n",
        "print(\"Working with {0} images\".format(len(onlymalefiles)))\n",
        "print(\"Image examples: \")\n",
        "\n",
        "\n",
        "for i in range(10):\n",
        "    print(onlymalefiles[i])\n",
        "    display(_Imgdis(filename=folder + \"/\" + onlymalefiles[i], width=240, height=240))"
      ],
      "metadata": {
        "id": "vtakOTdEJTl-"
      },
      "execution_count": null,
      "outputs": []
    },
    {
      "cell_type": "code",
      "source": [
        "num_classes=2\n"
      ],
      "metadata": {
        "id": "8WqPclffMTBd"
      },
      "execution_count": null,
      "outputs": []
    },
    {
      "cell_type": "code",
      "source": [
        "#model initialization\n",
        "vgg=VGG16(include_top=False, pooling='avg', weights='imagenet',input_shape=(178, 218, 3))\n",
        "\n",
        "# Freeze the layers except the last 5\n",
        "for layer in vgg.layers[:-5]:\n",
        " layer.trainable = False\n",
        "# Check the trainable status of the individual layers\n",
        "for layer in vgg.layers:\n",
        " print(layer, layer.trainable)\n",
        "\n",
        "vgg.summary()\n",
        "\n",
        "\n"
      ],
      "metadata": {
        "colab": {
          "base_uri": "https://localhost:8080/"
        },
        "id": "Vk5NiKE1JVwq",
        "outputId": "e603de74-9eb3-4c28-f04e-14e57fa4413f"
      },
      "execution_count": null,
      "outputs": [
        {
          "output_type": "stream",
          "name": "stdout",
          "text": [
            "<keras.engine.input_layer.InputLayer object at 0x7f44d43750d0> False\n",
            "<keras.layers.convolutional.Conv2D object at 0x7f44d0323e50> False\n",
            "<keras.layers.convolutional.Conv2D object at 0x7f445e097e50> False\n",
            "<keras.layers.pooling.MaxPooling2D object at 0x7f445e00fd90> False\n",
            "<keras.layers.convolutional.Conv2D object at 0x7f445e070510> False\n",
            "<keras.layers.convolutional.Conv2D object at 0x7f445e05c510> False\n",
            "<keras.layers.pooling.MaxPooling2D object at 0x7f44d031b910> False\n",
            "<keras.layers.convolutional.Conv2D object at 0x7f445e065f10> False\n",
            "<keras.layers.convolutional.Conv2D object at 0x7f445e00e2d0> False\n",
            "<keras.layers.convolutional.Conv2D object at 0x7f445e02e5d0> False\n",
            "<keras.layers.pooling.MaxPooling2D object at 0x7f445e027c10> False\n",
            "<keras.layers.convolutional.Conv2D object at 0x7f445e019890> False\n",
            "<keras.layers.convolutional.Conv2D object at 0x7f445dfff490> False\n",
            "<keras.layers.convolutional.Conv2D object at 0x7f445e023350> False\n",
            "<keras.layers.pooling.MaxPooling2D object at 0x7f445dfff990> False\n",
            "<keras.layers.convolutional.Conv2D object at 0x7f445e0283d0> True\n",
            "<keras.layers.convolutional.Conv2D object at 0x7f445dfb3890> True\n",
            "<keras.layers.convolutional.Conv2D object at 0x7f445dfb9f90> True\n",
            "<keras.layers.pooling.MaxPooling2D object at 0x7f44d64c8490> True\n",
            "<keras.layers.pooling.GlobalAveragePooling2D object at 0x7f445dfbe790> True\n",
            "Model: \"vgg16\"\n",
            "_________________________________________________________________\n",
            " Layer (type)                Output Shape              Param #   \n",
            "=================================================================\n",
            " input_2 (InputLayer)        [(None, 178, 218, 3)]     0         \n",
            "                                                                 \n",
            " block1_conv1 (Conv2D)       (None, 178, 218, 64)      1792      \n",
            "                                                                 \n",
            " block1_conv2 (Conv2D)       (None, 178, 218, 64)      36928     \n",
            "                                                                 \n",
            " block1_pool (MaxPooling2D)  (None, 89, 109, 64)       0         \n",
            "                                                                 \n",
            " block2_conv1 (Conv2D)       (None, 89, 109, 128)      73856     \n",
            "                                                                 \n",
            " block2_conv2 (Conv2D)       (None, 89, 109, 128)      147584    \n",
            "                                                                 \n",
            " block2_pool (MaxPooling2D)  (None, 44, 54, 128)       0         \n",
            "                                                                 \n",
            " block3_conv1 (Conv2D)       (None, 44, 54, 256)       295168    \n",
            "                                                                 \n",
            " block3_conv2 (Conv2D)       (None, 44, 54, 256)       590080    \n",
            "                                                                 \n",
            " block3_conv3 (Conv2D)       (None, 44, 54, 256)       590080    \n",
            "                                                                 \n",
            " block3_pool (MaxPooling2D)  (None, 22, 27, 256)       0         \n",
            "                                                                 \n",
            " block4_conv1 (Conv2D)       (None, 22, 27, 512)       1180160   \n",
            "                                                                 \n",
            " block4_conv2 (Conv2D)       (None, 22, 27, 512)       2359808   \n",
            "                                                                 \n",
            " block4_conv3 (Conv2D)       (None, 22, 27, 512)       2359808   \n",
            "                                                                 \n",
            " block4_pool (MaxPooling2D)  (None, 11, 13, 512)       0         \n",
            "                                                                 \n",
            " block5_conv1 (Conv2D)       (None, 11, 13, 512)       2359808   \n",
            "                                                                 \n",
            " block5_conv2 (Conv2D)       (None, 11, 13, 512)       2359808   \n",
            "                                                                 \n",
            " block5_conv3 (Conv2D)       (None, 11, 13, 512)       2359808   \n",
            "                                                                 \n",
            " block5_pool (MaxPooling2D)  (None, 5, 6, 512)         0         \n",
            "                                                                 \n",
            " global_average_pooling2d_1   (None, 512)              0         \n",
            " (GlobalAveragePooling2D)                                        \n",
            "                                                                 \n",
            "=================================================================\n",
            "Total params: 14,714,688\n",
            "Trainable params: 7,079,424\n",
            "Non-trainable params: 7,635,264\n",
            "_________________________________________________________________\n"
          ]
        }
      ]
    },
    {
      "cell_type": "code",
      "source": [
        "from keras import models\n",
        "from keras import layers\n",
        "\n",
        "model = models.Sequential()\n",
        "\n",
        "# Add new layers for fine-tuning\n",
        "model.add(vgg)\n",
        "model.add(Flatten())\n",
        "model.add(layers.Dense(128, activation='relu'))\n",
        "model.add(layers.BatchNormalization())\n",
        "model.add(layers.Dense(num_classes, activation='softmax'))\n",
        "\n",
        "model.summary()"
      ],
      "metadata": {
        "colab": {
          "base_uri": "https://localhost:8080/"
        },
        "id": "8LVuEIsWX2yR",
        "outputId": "3d7906c3-0517-4ddd-92fc-4055384b1487"
      },
      "execution_count": 28,
      "outputs": [
        {
          "output_type": "stream",
          "name": "stdout",
          "text": [
            "Model: \"sequential_2\"\n",
            "_________________________________________________________________\n",
            " Layer (type)                Output Shape              Param #   \n",
            "=================================================================\n",
            " vgg16 (Functional)          (None, 512)               14714688  \n",
            "                                                                 \n",
            " flatten (Flatten)           (None, 512)               0         \n",
            "                                                                 \n",
            " dense_4 (Dense)             (None, 128)               65664     \n",
            "                                                                 \n",
            " batch_normalization_2 (Batc  (None, 128)              512       \n",
            " hNormalization)                                                 \n",
            "                                                                 \n",
            " dense_5 (Dense)             (None, 2)                 258       \n",
            "                                                                 \n",
            "=================================================================\n",
            "Total params: 14,781,122\n",
            "Trainable params: 7,145,602\n",
            "Non-trainable params: 7,635,520\n",
            "_________________________________________________________________\n"
          ]
        }
      ]
    },
    {
      "cell_type": "code",
      "source": [
        "#Model Optimizer&Loss set\n",
        "from keras import optimizers\n",
        "\n",
        "model.compile(optimizer = 'adam',\n",
        "              loss = 'binary_crossentropy',\n",
        "              metrics=['accuracy'])\n",
        "\n"
      ],
      "metadata": {
        "id": "EoqwObbrbFaA"
      },
      "execution_count": 37,
      "outputs": []
    },
    {
      "cell_type": "code",
      "source": [
        "# use early stopping to optimally terminate training through callbacks\n",
        "from tensorflow.python.keras.callbacks import EarlyStopping, ModelCheckpoint\n",
        "es=EarlyStopping(monitor='val_loss', mode='min', verbose=1, patience=3)\n",
        "\n",
        "# save best model automatically\n",
        "import h5py\n",
        "mc= ModelCheckpoint('/content/optimal.h5', monitor='val_loss', mode='min', verbose=1, save_best_only=True)\n",
        "cb_list=[es,mc]"
      ],
      "metadata": {
        "id": "5TBb7jgAWcNa"
      },
      "execution_count": 29,
      "outputs": []
    },
    {
      "cell_type": "code",
      "source": [
        "#Pre-Processing\n",
        "data_generator = ImageDataGenerator(preprocessing_function=preprocess_input)\n",
        "\n",
        "\n",
        "train_generator = data_generator.flow_from_directory(\n",
        "        '/content/UTKFace/train',\n",
        "        target_size=(178, 218),\n",
        "        batch_size=12,\n",
        "        class_mode='categorical')\n",
        "\n",
        "\n",
        "validation_generator = data_generator.flow_from_directory(\n",
        "        '/content/UTKFace/val',\n",
        "        target_size=(178, 218),\n",
        "        batch_size=12,\n",
        "        class_mode='categorical')\n",
        "\n",
        "\n",
        "\n"
      ],
      "metadata": {
        "id": "ZATRrzwGXb6A",
        "colab": {
          "base_uri": "https://localhost:8080/"
        },
        "outputId": "5a9d3642-8a5b-4278-e5e4-f8ea25171487"
      },
      "execution_count": 18,
      "outputs": [
        {
          "output_type": "stream",
          "name": "stdout",
          "text": [
            "Found 17287 images belonging to 2 classes.\n",
            "Found 4616 images belonging to 2 classes.\n"
          ]
        }
      ]
    },
    {
      "cell_type": "code",
      "source": [
        "\n",
        "model.fit(\n",
        "        train_generator,\n",
        "        epochs=20,\n",
        "        validation_data=validation_generator,\n",
        "        callbacks=cb_list)"
      ],
      "metadata": {
        "colab": {
          "base_uri": "https://localhost:8080/",
          "height": 1000
        },
        "id": "Wfuf3YdraZUk",
        "outputId": "16d48674-3d87-4958-987f-65269cc26e5e"
      },
      "execution_count": 27,
      "outputs": [
        {
          "output_type": "stream",
          "name": "stdout",
          "text": [
            "Epoch 1/20\n",
            "1441/1441 [==============================] - ETA: 0s - loss: 0.1130 - accuracy: 0.9622\n",
            "Epoch 00001: val_loss improved from inf to 0.24941, saving model to /content/optimal.h5\n",
            "1441/1441 [==============================] - 218s 152ms/step - loss: 0.1130 - accuracy: 0.9622 - val_loss: 0.2494 - val_accuracy: 0.9066\n",
            "Epoch 2/20\n",
            "1441/1441 [==============================] - ETA: 0s - loss: 0.1068 - accuracy: 0.9647\n",
            "Epoch 00002: val_loss did not improve from 0.24941\n",
            "1441/1441 [==============================] - 218s 151ms/step - loss: 0.1068 - accuracy: 0.9647 - val_loss: 4.7146 - val_accuracy: 0.8863\n",
            "Epoch 3/20\n",
            "1441/1441 [==============================] - ETA: 0s - loss: 0.0953 - accuracy: 0.9672\n",
            "Epoch 00003: val_loss did not improve from 0.24941\n",
            "1441/1441 [==============================] - 219s 152ms/step - loss: 0.0953 - accuracy: 0.9672 - val_loss: 0.3652 - val_accuracy: 0.8878\n",
            "Epoch 4/20\n",
            "1441/1441 [==============================] - ETA: 0s - loss: 0.0754 - accuracy: 0.9766\n",
            "Epoch 00004: val_loss did not improve from 0.24941\n",
            "1441/1441 [==============================] - 219s 152ms/step - loss: 0.0754 - accuracy: 0.9766 - val_loss: 0.3379 - val_accuracy: 0.8921\n",
            "Epoch 5/20\n",
            "1441/1441 [==============================] - ETA: 0s - loss: 0.0721 - accuracy: 0.9768\n",
            "Epoch 00005: val_loss did not improve from 0.24941\n",
            "1441/1441 [==============================] - 220s 153ms/step - loss: 0.0721 - accuracy: 0.9768 - val_loss: 0.3140 - val_accuracy: 0.8975\n",
            "Epoch 6/20\n",
            "1441/1441 [==============================] - ETA: 0s - loss: 0.0625 - accuracy: 0.9798\n",
            "Epoch 00006: val_loss did not improve from 0.24941\n",
            "1441/1441 [==============================] - 220s 152ms/step - loss: 0.0625 - accuracy: 0.9798 - val_loss: 3.1856 - val_accuracy: 0.8806\n",
            "Epoch 7/20\n",
            "1441/1441 [==============================] - ETA: 0s - loss: 0.0584 - accuracy: 0.9815\n",
            "Epoch 00007: val_loss did not improve from 0.24941\n",
            "1441/1441 [==============================] - 220s 153ms/step - loss: 0.0584 - accuracy: 0.9815 - val_loss: 0.4599 - val_accuracy: 0.8895\n",
            "Epoch 8/20\n",
            "1441/1441 [==============================] - ETA: 0s - loss: 0.0508 - accuracy: 0.9835\n",
            "Epoch 00008: val_loss did not improve from 0.24941\n",
            "1441/1441 [==============================] - 219s 152ms/step - loss: 0.0508 - accuracy: 0.9835 - val_loss: 1.6008 - val_accuracy: 0.8895\n",
            "Epoch 9/20\n",
            "1441/1441 [==============================] - ETA: 0s - loss: 0.0466 - accuracy: 0.9854\n",
            "Epoch 00009: val_loss did not improve from 0.24941\n",
            "1441/1441 [==============================] - 220s 153ms/step - loss: 0.0466 - accuracy: 0.9854 - val_loss: 0.4688 - val_accuracy: 0.9025\n",
            "Epoch 10/20\n",
            "1441/1441 [==============================] - ETA: 0s - loss: 0.0403 - accuracy: 0.9877\n",
            "Epoch 00010: val_loss did not improve from 0.24941\n",
            "1441/1441 [==============================] - 220s 153ms/step - loss: 0.0403 - accuracy: 0.9877 - val_loss: 0.4009 - val_accuracy: 0.8988\n",
            "Epoch 11/20\n",
            "1441/1441 [==============================] - ETA: 0s - loss: 0.0439 - accuracy: 0.9871\n",
            "Epoch 00011: val_loss did not improve from 0.24941\n",
            "1441/1441 [==============================] - 219s 152ms/step - loss: 0.0439 - accuracy: 0.9871 - val_loss: 0.4075 - val_accuracy: 0.9045\n",
            "Epoch 12/20\n",
            "1441/1441 [==============================] - ETA: 0s - loss: 0.0390 - accuracy: 0.9881\n",
            "Epoch 00012: val_loss did not improve from 0.24941\n",
            "1441/1441 [==============================] - 220s 153ms/step - loss: 0.0390 - accuracy: 0.9881 - val_loss: 0.4243 - val_accuracy: 0.9019\n",
            "Epoch 13/20\n",
            "1441/1441 [==============================] - ETA: 0s - loss: 0.0383 - accuracy: 0.9896\n",
            "Epoch 00013: val_loss did not improve from 0.24941\n",
            "1441/1441 [==============================] - 220s 153ms/step - loss: 0.0383 - accuracy: 0.9896 - val_loss: 0.3936 - val_accuracy: 0.9021\n",
            "Epoch 14/20\n",
            "1441/1441 [==============================] - ETA: 0s - loss: 0.0427 - accuracy: 0.9869\n",
            "Epoch 00014: val_loss did not improve from 0.24941\n",
            "1441/1441 [==============================] - 220s 153ms/step - loss: 0.0427 - accuracy: 0.9869 - val_loss: 0.4724 - val_accuracy: 0.8906\n",
            "Epoch 15/20\n",
            "1441/1441 [==============================] - ETA: 0s - loss: 0.0312 - accuracy: 0.9908\n",
            "Epoch 00015: val_loss did not improve from 0.24941\n",
            "1441/1441 [==============================] - 220s 153ms/step - loss: 0.0312 - accuracy: 0.9908 - val_loss: 0.6244 - val_accuracy: 0.8692\n",
            "Epoch 16/20\n",
            " 278/1441 [====>.........................] - ETA: 2:25 - loss: 0.0437 - accuracy: 0.9889"
          ]
        },
        {
          "output_type": "error",
          "ename": "KeyboardInterrupt",
          "evalue": "ignored",
          "traceback": [
            "\u001b[0;31m---------------------------------------------------------------------------\u001b[0m",
            "\u001b[0;31mKeyboardInterrupt\u001b[0m                         Traceback (most recent call last)",
            "\u001b[0;32m<ipython-input-27-ee92539d1452>\u001b[0m in \u001b[0;36m<module>\u001b[0;34m()\u001b[0m\n\u001b[1;32m      4\u001b[0m         \u001b[0mepochs\u001b[0m\u001b[0;34m=\u001b[0m\u001b[0;36m20\u001b[0m\u001b[0;34m,\u001b[0m\u001b[0;34m\u001b[0m\u001b[0;34m\u001b[0m\u001b[0m\n\u001b[1;32m      5\u001b[0m         \u001b[0mvalidation_data\u001b[0m\u001b[0;34m=\u001b[0m\u001b[0mvalidation_generator\u001b[0m\u001b[0;34m,\u001b[0m\u001b[0;34m\u001b[0m\u001b[0;34m\u001b[0m\u001b[0m\n\u001b[0;32m----> 6\u001b[0;31m         callbacks=cb_list)\n\u001b[0m",
            "\u001b[0;32m/usr/local/lib/python3.7/dist-packages/keras/utils/traceback_utils.py\u001b[0m in \u001b[0;36merror_handler\u001b[0;34m(*args, **kwargs)\u001b[0m\n\u001b[1;32m     62\u001b[0m     \u001b[0mfiltered_tb\u001b[0m \u001b[0;34m=\u001b[0m \u001b[0;32mNone\u001b[0m\u001b[0;34m\u001b[0m\u001b[0;34m\u001b[0m\u001b[0m\n\u001b[1;32m     63\u001b[0m     \u001b[0;32mtry\u001b[0m\u001b[0;34m:\u001b[0m\u001b[0;34m\u001b[0m\u001b[0;34m\u001b[0m\u001b[0m\n\u001b[0;32m---> 64\u001b[0;31m       \u001b[0;32mreturn\u001b[0m \u001b[0mfn\u001b[0m\u001b[0;34m(\u001b[0m\u001b[0;34m*\u001b[0m\u001b[0margs\u001b[0m\u001b[0;34m,\u001b[0m \u001b[0;34m**\u001b[0m\u001b[0mkwargs\u001b[0m\u001b[0;34m)\u001b[0m\u001b[0;34m\u001b[0m\u001b[0;34m\u001b[0m\u001b[0m\n\u001b[0m\u001b[1;32m     65\u001b[0m     \u001b[0;32mexcept\u001b[0m \u001b[0mException\u001b[0m \u001b[0;32mas\u001b[0m \u001b[0me\u001b[0m\u001b[0;34m:\u001b[0m  \u001b[0;31m# pylint: disable=broad-except\u001b[0m\u001b[0;34m\u001b[0m\u001b[0;34m\u001b[0m\u001b[0m\n\u001b[1;32m     66\u001b[0m       \u001b[0mfiltered_tb\u001b[0m \u001b[0;34m=\u001b[0m \u001b[0m_process_traceback_frames\u001b[0m\u001b[0;34m(\u001b[0m\u001b[0me\u001b[0m\u001b[0;34m.\u001b[0m\u001b[0m__traceback__\u001b[0m\u001b[0;34m)\u001b[0m\u001b[0;34m\u001b[0m\u001b[0;34m\u001b[0m\u001b[0m\n",
            "\u001b[0;32m/usr/local/lib/python3.7/dist-packages/keras/engine/training.py\u001b[0m in \u001b[0;36mfit\u001b[0;34m(self, x, y, batch_size, epochs, verbose, callbacks, validation_split, validation_data, shuffle, class_weight, sample_weight, initial_epoch, steps_per_epoch, validation_steps, validation_batch_size, validation_freq, max_queue_size, workers, use_multiprocessing)\u001b[0m\n\u001b[1;32m   1214\u001b[0m                 _r=1):\n\u001b[1;32m   1215\u001b[0m               \u001b[0mcallbacks\u001b[0m\u001b[0;34m.\u001b[0m\u001b[0mon_train_batch_begin\u001b[0m\u001b[0;34m(\u001b[0m\u001b[0mstep\u001b[0m\u001b[0;34m)\u001b[0m\u001b[0;34m\u001b[0m\u001b[0;34m\u001b[0m\u001b[0m\n\u001b[0;32m-> 1216\u001b[0;31m               \u001b[0mtmp_logs\u001b[0m \u001b[0;34m=\u001b[0m \u001b[0mself\u001b[0m\u001b[0;34m.\u001b[0m\u001b[0mtrain_function\u001b[0m\u001b[0;34m(\u001b[0m\u001b[0miterator\u001b[0m\u001b[0;34m)\u001b[0m\u001b[0;34m\u001b[0m\u001b[0;34m\u001b[0m\u001b[0m\n\u001b[0m\u001b[1;32m   1217\u001b[0m               \u001b[0;32mif\u001b[0m \u001b[0mdata_handler\u001b[0m\u001b[0;34m.\u001b[0m\u001b[0mshould_sync\u001b[0m\u001b[0;34m:\u001b[0m\u001b[0;34m\u001b[0m\u001b[0;34m\u001b[0m\u001b[0m\n\u001b[1;32m   1218\u001b[0m                 \u001b[0mcontext\u001b[0m\u001b[0;34m.\u001b[0m\u001b[0masync_wait\u001b[0m\u001b[0;34m(\u001b[0m\u001b[0;34m)\u001b[0m\u001b[0;34m\u001b[0m\u001b[0;34m\u001b[0m\u001b[0m\n",
            "\u001b[0;32m/usr/local/lib/python3.7/dist-packages/tensorflow/python/util/traceback_utils.py\u001b[0m in \u001b[0;36merror_handler\u001b[0;34m(*args, **kwargs)\u001b[0m\n\u001b[1;32m    148\u001b[0m     \u001b[0mfiltered_tb\u001b[0m \u001b[0;34m=\u001b[0m \u001b[0;32mNone\u001b[0m\u001b[0;34m\u001b[0m\u001b[0;34m\u001b[0m\u001b[0m\n\u001b[1;32m    149\u001b[0m     \u001b[0;32mtry\u001b[0m\u001b[0;34m:\u001b[0m\u001b[0;34m\u001b[0m\u001b[0;34m\u001b[0m\u001b[0m\n\u001b[0;32m--> 150\u001b[0;31m       \u001b[0;32mreturn\u001b[0m \u001b[0mfn\u001b[0m\u001b[0;34m(\u001b[0m\u001b[0;34m*\u001b[0m\u001b[0margs\u001b[0m\u001b[0;34m,\u001b[0m \u001b[0;34m**\u001b[0m\u001b[0mkwargs\u001b[0m\u001b[0;34m)\u001b[0m\u001b[0;34m\u001b[0m\u001b[0;34m\u001b[0m\u001b[0m\n\u001b[0m\u001b[1;32m    151\u001b[0m     \u001b[0;32mexcept\u001b[0m \u001b[0mException\u001b[0m \u001b[0;32mas\u001b[0m \u001b[0me\u001b[0m\u001b[0;34m:\u001b[0m\u001b[0;34m\u001b[0m\u001b[0;34m\u001b[0m\u001b[0m\n\u001b[1;32m    152\u001b[0m       \u001b[0mfiltered_tb\u001b[0m \u001b[0;34m=\u001b[0m \u001b[0m_process_traceback_frames\u001b[0m\u001b[0;34m(\u001b[0m\u001b[0me\u001b[0m\u001b[0;34m.\u001b[0m\u001b[0m__traceback__\u001b[0m\u001b[0;34m)\u001b[0m\u001b[0;34m\u001b[0m\u001b[0;34m\u001b[0m\u001b[0m\n",
            "\u001b[0;32m/usr/local/lib/python3.7/dist-packages/tensorflow/python/eager/def_function.py\u001b[0m in \u001b[0;36m__call__\u001b[0;34m(self, *args, **kwds)\u001b[0m\n\u001b[1;32m    908\u001b[0m \u001b[0;34m\u001b[0m\u001b[0m\n\u001b[1;32m    909\u001b[0m       \u001b[0;32mwith\u001b[0m \u001b[0mOptionalXlaContext\u001b[0m\u001b[0;34m(\u001b[0m\u001b[0mself\u001b[0m\u001b[0;34m.\u001b[0m\u001b[0m_jit_compile\u001b[0m\u001b[0;34m)\u001b[0m\u001b[0;34m:\u001b[0m\u001b[0;34m\u001b[0m\u001b[0;34m\u001b[0m\u001b[0m\n\u001b[0;32m--> 910\u001b[0;31m         \u001b[0mresult\u001b[0m \u001b[0;34m=\u001b[0m \u001b[0mself\u001b[0m\u001b[0;34m.\u001b[0m\u001b[0m_call\u001b[0m\u001b[0;34m(\u001b[0m\u001b[0;34m*\u001b[0m\u001b[0margs\u001b[0m\u001b[0;34m,\u001b[0m \u001b[0;34m**\u001b[0m\u001b[0mkwds\u001b[0m\u001b[0;34m)\u001b[0m\u001b[0;34m\u001b[0m\u001b[0;34m\u001b[0m\u001b[0m\n\u001b[0m\u001b[1;32m    911\u001b[0m \u001b[0;34m\u001b[0m\u001b[0m\n\u001b[1;32m    912\u001b[0m       \u001b[0mnew_tracing_count\u001b[0m \u001b[0;34m=\u001b[0m \u001b[0mself\u001b[0m\u001b[0;34m.\u001b[0m\u001b[0mexperimental_get_tracing_count\u001b[0m\u001b[0;34m(\u001b[0m\u001b[0;34m)\u001b[0m\u001b[0;34m\u001b[0m\u001b[0;34m\u001b[0m\u001b[0m\n",
            "\u001b[0;32m/usr/local/lib/python3.7/dist-packages/tensorflow/python/eager/def_function.py\u001b[0m in \u001b[0;36m_call\u001b[0;34m(self, *args, **kwds)\u001b[0m\n\u001b[1;32m    940\u001b[0m       \u001b[0;31m# In this case we have created variables on the first call, so we run the\u001b[0m\u001b[0;34m\u001b[0m\u001b[0;34m\u001b[0m\u001b[0;34m\u001b[0m\u001b[0m\n\u001b[1;32m    941\u001b[0m       \u001b[0;31m# defunned version which is guaranteed to never create variables.\u001b[0m\u001b[0;34m\u001b[0m\u001b[0;34m\u001b[0m\u001b[0;34m\u001b[0m\u001b[0m\n\u001b[0;32m--> 942\u001b[0;31m       \u001b[0;32mreturn\u001b[0m \u001b[0mself\u001b[0m\u001b[0;34m.\u001b[0m\u001b[0m_stateless_fn\u001b[0m\u001b[0;34m(\u001b[0m\u001b[0;34m*\u001b[0m\u001b[0margs\u001b[0m\u001b[0;34m,\u001b[0m \u001b[0;34m**\u001b[0m\u001b[0mkwds\u001b[0m\u001b[0;34m)\u001b[0m  \u001b[0;31m# pylint: disable=not-callable\u001b[0m\u001b[0;34m\u001b[0m\u001b[0;34m\u001b[0m\u001b[0m\n\u001b[0m\u001b[1;32m    943\u001b[0m     \u001b[0;32melif\u001b[0m \u001b[0mself\u001b[0m\u001b[0;34m.\u001b[0m\u001b[0m_stateful_fn\u001b[0m \u001b[0;32mis\u001b[0m \u001b[0;32mnot\u001b[0m \u001b[0;32mNone\u001b[0m\u001b[0;34m:\u001b[0m\u001b[0;34m\u001b[0m\u001b[0;34m\u001b[0m\u001b[0m\n\u001b[1;32m    944\u001b[0m       \u001b[0;31m# Release the lock early so that multiple threads can perform the call\u001b[0m\u001b[0;34m\u001b[0m\u001b[0;34m\u001b[0m\u001b[0;34m\u001b[0m\u001b[0m\n",
            "\u001b[0;32m/usr/local/lib/python3.7/dist-packages/tensorflow/python/eager/function.py\u001b[0m in \u001b[0;36m__call__\u001b[0;34m(self, *args, **kwargs)\u001b[0m\n\u001b[1;32m   3129\u001b[0m        filtered_flat_args) = self._maybe_define_function(args, kwargs)\n\u001b[1;32m   3130\u001b[0m     return graph_function._call_flat(\n\u001b[0;32m-> 3131\u001b[0;31m         filtered_flat_args, captured_inputs=graph_function.captured_inputs)  # pylint: disable=protected-access\n\u001b[0m\u001b[1;32m   3132\u001b[0m \u001b[0;34m\u001b[0m\u001b[0m\n\u001b[1;32m   3133\u001b[0m   \u001b[0;34m@\u001b[0m\u001b[0mproperty\u001b[0m\u001b[0;34m\u001b[0m\u001b[0;34m\u001b[0m\u001b[0m\n",
            "\u001b[0;32m/usr/local/lib/python3.7/dist-packages/tensorflow/python/eager/function.py\u001b[0m in \u001b[0;36m_call_flat\u001b[0;34m(self, args, captured_inputs, cancellation_manager)\u001b[0m\n\u001b[1;32m   1958\u001b[0m       \u001b[0;31m# No tape is watching; skip to running the function.\u001b[0m\u001b[0;34m\u001b[0m\u001b[0;34m\u001b[0m\u001b[0;34m\u001b[0m\u001b[0m\n\u001b[1;32m   1959\u001b[0m       return self._build_call_outputs(self._inference_function.call(\n\u001b[0;32m-> 1960\u001b[0;31m           ctx, args, cancellation_manager=cancellation_manager))\n\u001b[0m\u001b[1;32m   1961\u001b[0m     forward_backward = self._select_forward_and_backward_functions(\n\u001b[1;32m   1962\u001b[0m         \u001b[0margs\u001b[0m\u001b[0;34m,\u001b[0m\u001b[0;34m\u001b[0m\u001b[0;34m\u001b[0m\u001b[0m\n",
            "\u001b[0;32m/usr/local/lib/python3.7/dist-packages/tensorflow/python/eager/function.py\u001b[0m in \u001b[0;36mcall\u001b[0;34m(self, ctx, args, cancellation_manager)\u001b[0m\n\u001b[1;32m    601\u001b[0m               \u001b[0minputs\u001b[0m\u001b[0;34m=\u001b[0m\u001b[0margs\u001b[0m\u001b[0;34m,\u001b[0m\u001b[0;34m\u001b[0m\u001b[0;34m\u001b[0m\u001b[0m\n\u001b[1;32m    602\u001b[0m               \u001b[0mattrs\u001b[0m\u001b[0;34m=\u001b[0m\u001b[0mattrs\u001b[0m\u001b[0;34m,\u001b[0m\u001b[0;34m\u001b[0m\u001b[0;34m\u001b[0m\u001b[0m\n\u001b[0;32m--> 603\u001b[0;31m               ctx=ctx)\n\u001b[0m\u001b[1;32m    604\u001b[0m         \u001b[0;32melse\u001b[0m\u001b[0;34m:\u001b[0m\u001b[0;34m\u001b[0m\u001b[0;34m\u001b[0m\u001b[0m\n\u001b[1;32m    605\u001b[0m           outputs = execute.execute_with_cancellation(\n",
            "\u001b[0;32m/usr/local/lib/python3.7/dist-packages/tensorflow/python/eager/execute.py\u001b[0m in \u001b[0;36mquick_execute\u001b[0;34m(op_name, num_outputs, inputs, attrs, ctx, name)\u001b[0m\n\u001b[1;32m     57\u001b[0m     \u001b[0mctx\u001b[0m\u001b[0;34m.\u001b[0m\u001b[0mensure_initialized\u001b[0m\u001b[0;34m(\u001b[0m\u001b[0;34m)\u001b[0m\u001b[0;34m\u001b[0m\u001b[0;34m\u001b[0m\u001b[0m\n\u001b[1;32m     58\u001b[0m     tensors = pywrap_tfe.TFE_Py_Execute(ctx._handle, device_name, op_name,\n\u001b[0;32m---> 59\u001b[0;31m                                         inputs, attrs, num_outputs)\n\u001b[0m\u001b[1;32m     60\u001b[0m   \u001b[0;32mexcept\u001b[0m \u001b[0mcore\u001b[0m\u001b[0;34m.\u001b[0m\u001b[0m_NotOkStatusException\u001b[0m \u001b[0;32mas\u001b[0m \u001b[0me\u001b[0m\u001b[0;34m:\u001b[0m\u001b[0;34m\u001b[0m\u001b[0;34m\u001b[0m\u001b[0m\n\u001b[1;32m     61\u001b[0m     \u001b[0;32mif\u001b[0m \u001b[0mname\u001b[0m \u001b[0;32mis\u001b[0m \u001b[0;32mnot\u001b[0m \u001b[0;32mNone\u001b[0m\u001b[0;34m:\u001b[0m\u001b[0;34m\u001b[0m\u001b[0;34m\u001b[0m\u001b[0m\n",
            "\u001b[0;31mKeyboardInterrupt\u001b[0m: "
          ]
        }
      ]
    },
    {
      "cell_type": "code",
      "source": [
        "#load best model\n",
        "from keras.models import load_model\n",
        "saved_model = load_model('/content/optimal.h5')"
      ],
      "metadata": {
        "id": "ccqOjKMjiVPh"
      },
      "execution_count": 30,
      "outputs": []
    },
    {
      "cell_type": "code",
      "source": [
        "#testing on tuned model\n",
        "test_generator = data_generator.flow_from_directory(\n",
        "        '/content/UTKFace/test',\n",
        "        target_size=(178, 218),\n",
        "        batch_size=12,\n",
        "        class_mode='categorical')\n",
        "\n",
        "# # obtain predicted activation values for the last dense layer\n",
        "# pred = saved_model.predict(test_generator, verbose=1)\n",
        "# # determine the maximum activation value for each sample\n",
        "# predicted_class_indices=np.argmax(pred,axis=1)\n",
        "\n"
      ],
      "metadata": {
        "colab": {
          "base_uri": "https://localhost:8080/"
        },
        "id": "0DbH6EEbimP0",
        "outputId": "b9586948-179b-451c-8291-7032f2039906"
      },
      "execution_count": 35,
      "outputs": [
        {
          "output_type": "stream",
          "name": "stdout",
          "text": [
            "Found 1804 images belonging to 2 classes.\n",
            "151/151 [==============================] - 15s 99ms/step\n"
          ]
        }
      ]
    },
    {
      "cell_type": "code",
      "source": [
        "results = model.evaluate(test_generator,batch_size=12)\n",
        "results"
      ],
      "metadata": {
        "colab": {
          "base_uri": "https://localhost:8080/"
        },
        "id": "53s8bDm5lJq-",
        "outputId": "446231cc-4adc-4901-fcb8-57f7d525a717"
      },
      "execution_count": 38,
      "outputs": [
        {
          "output_type": "stream",
          "name": "stdout",
          "text": [
            "151/151 [==============================] - 17s 107ms/step - loss: 7628.5205 - accuracy: 0.8603\n"
          ]
        },
        {
          "output_type": "execute_result",
          "data": {
            "text/plain": [
              "[7628.5205078125, 0.860310435295105]"
            ]
          },
          "metadata": {},
          "execution_count": 38
        }
      ]
    }
  ]
}